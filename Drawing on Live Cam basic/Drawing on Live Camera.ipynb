{
 "cells": [
  {
   "cell_type": "code",
   "execution_count": 1,
   "id": "6aeb91c9",
   "metadata": {},
   "outputs": [],
   "source": [
    "import pandas as pd\n",
    "import numpy as np\n",
    "import matplotlib.pyplot as plt\n",
    "import cv2"
   ]
  },
  {
   "cell_type": "code",
   "execution_count": 12,
   "id": "cd6b5d53",
   "metadata": {},
   "outputs": [],
   "source": [
    "cap = cv2.VideoCapture(0)\n",
    "width = int(cap.get(cv2.CAP_PROP_FRAME_WIDTH))\n",
    "height = int(cap.get(cv2.CAP_PROP_FRAME_HEIGHT))\n",
    "#Top left coner\n",
    "x = width//2\n",
    "y = height//2\n",
    "#width and height of the reactangle\n",
    "w = width//4\n",
    "h = height//4\n",
    "#Bottom right x+w,y+h\n",
    "while True:\n",
    "    ret,frame = cap.read()\n",
    "    cv2.rectangle(frame,(x,y),(x+w,y+h),color = (0,0,255),thickness=5)\n",
    "    cv2.imshow('frame',frame)\n",
    "    \n",
    "    if cv2.waitKey(1) & 0xFF == ord('q'):\n",
    "        break\n",
    "cap.release()\n",
    "cv2.destroyAllWindows()\n",
    "\n"
   ]
  },
  {
   "cell_type": "code",
   "execution_count": 6,
   "id": "0db64664",
   "metadata": {},
   "outputs": [],
   "source": [
    "def draw_reactangle(event,x,y,flags,param):\n",
    "    global pt1,pt2,topLeft_clicked,botRight_clicked\n",
    "    \n",
    "    if event == cv2.EVENT_LBUTTONDOWN:\n",
    "        if topLeft_clicked== True and botRight_clicked ==True:\n",
    "            pt1 = (0,0)\n",
    "            pt2 = (0,0)\n",
    "            topLeft_clicked = False\n",
    "            botRight_clicked = False\n",
    "        \n",
    "        if topLeft_clicked == False:\n",
    "            pt1 = (x,y)\n",
    "            topLeft_clicked =True\n",
    "        \n",
    "        elif botRight_clicked == False:\n",
    "            pt2 = (x,y)\n",
    "            botRight_clicked =True\n",
    "        \n",
    "        \n",
    "        \n",
    "## Global Varible\n",
    "pt1 = (0,0)\n",
    "pt2 = (0,0)\n",
    "\n",
    "topLeft_clicked = False\n",
    "botRight_clicked = False\n",
    "\n",
    "cap = cv2.VideoCapture(0)\n",
    "cv2.namedWindow('Test')\n",
    "cv2.setMouseCallback('Test',draw_reactangle)\n",
    "\n",
    "\n",
    "while True:\n",
    "    ret,frame = cap.read()\n",
    "    \n",
    "    if topLeft_clicked:\n",
    "        cv2.circle(frame,center=pt1,radius=5,color=(0,0,255),thickness=-1)\n",
    "    if topLeft_clicked and botRight_clicked:\n",
    "        cv2.rectangle(frame,pt1,pt2,(0,0,255),3)\n",
    "    \n",
    "    cv2.imshow('Test',frame)\n",
    "    \n",
    "    if cv2.waitKey(1) & 0xFF == ord('q'):\n",
    "        break\n",
    "cap.release()\n",
    "cv2.destroyAllWindows()"
   ]
  },
  {
   "cell_type": "code",
   "execution_count": 11,
   "id": "60460b3d",
   "metadata": {},
   "outputs": [],
   "source": [
    "\n",
    "\n"
   ]
  },
  {
   "cell_type": "code",
   "execution_count": 16,
   "id": "c3da2b78",
   "metadata": {},
   "outputs": [],
   "source": []
  },
  {
   "cell_type": "code",
   "execution_count": null,
   "id": "06e19f9e",
   "metadata": {},
   "outputs": [],
   "source": []
  }
 ],
 "metadata": {
  "kernelspec": {
   "display_name": "Python 3",
   "language": "python",
   "name": "python3"
  },
  "language_info": {
   "codemirror_mode": {
    "name": "ipython",
    "version": 3
   },
   "file_extension": ".py",
   "mimetype": "text/x-python",
   "name": "python",
   "nbconvert_exporter": "python",
   "pygments_lexer": "ipython3",
   "version": "3.8.8"
  }
 },
 "nbformat": 4,
 "nbformat_minor": 5
}
